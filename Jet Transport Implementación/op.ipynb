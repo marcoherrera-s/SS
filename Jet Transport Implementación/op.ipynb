{
 "cells": [
  {
   "cell_type": "code",
   "execution_count": 1,
   "metadata": {},
   "outputs": [],
   "source": [
    "import sympy as sp"
   ]
  },
  {
   "cell_type": "code",
   "execution_count": 2,
   "metadata": {},
   "outputs": [],
   "source": [
    "x, y, px, py, mu, omega = sp.symbols('x y p_x p_y mu omega')"
   ]
  },
  {
   "cell_type": "code",
   "execution_count": 12,
   "metadata": {},
   "outputs": [],
   "source": [
    "J = sp.Rational(1, 2) * (px**2 + py**2) - (1 - mu) / sp.sqrt((x + mu)**2 + y**2) - mu / sp.sqrt((x - (1 - mu))**2 + y**2) + omega * (y * px - x * py)"
   ]
  },
  {
   "cell_type": "code",
   "execution_count": 13,
   "metadata": {},
   "outputs": [
    {
     "data": {
      "text/latex": [
       "$\\displaystyle - \\frac{\\mu}{\\sqrt{y^{2} + \\left(\\mu + x - 1\\right)^{2}}} + \\omega \\left(p_{x} y - p_{y} x\\right) + \\frac{p_{x}^{2}}{2} + \\frac{p_{y}^{2}}{2} - \\frac{1 - \\mu}{\\sqrt{y^{2} + \\left(\\mu + x\\right)^{2}}}$"
      ],
      "text/plain": [
       "-mu/sqrt(y**2 + (mu + x - 1)**2) + omega*(p_x*y - p_y*x) + p_x**2/2 + p_y**2/2 - (1 - mu)/sqrt(y**2 + (mu + x)**2)"
      ]
     },
     "execution_count": 13,
     "metadata": {},
     "output_type": "execute_result"
    }
   ],
   "source": [
    "J"
   ]
  },
  {
   "cell_type": "code",
   "execution_count": 14,
   "metadata": {},
   "outputs": [],
   "source": [
    "dx_dt = sp.diff(J, px)\n",
    "dy_dt = sp.diff(J, py)\n",
    "dpx_dt = -sp.diff(J, x)\n",
    "dpy_dt = -sp.diff(J, y)"
   ]
  },
  {
   "cell_type": "code",
   "execution_count": 15,
   "metadata": {},
   "outputs": [
    {
     "data": {
      "text/latex": [
       "$\\displaystyle \\omega y + p_{x}$"
      ],
      "text/plain": [
       "omega*y + p_x"
      ]
     },
     "execution_count": 15,
     "metadata": {},
     "output_type": "execute_result"
    }
   ],
   "source": [
    "dx_dt"
   ]
  },
  {
   "cell_type": "code",
   "execution_count": 16,
   "metadata": {},
   "outputs": [
    {
     "data": {
      "text/latex": [
       "$\\displaystyle - \\omega x + p_{y}$"
      ],
      "text/plain": [
       "-omega*x + p_y"
      ]
     },
     "execution_count": 16,
     "metadata": {},
     "output_type": "execute_result"
    }
   ],
   "source": [
    "dy_dt"
   ]
  },
  {
   "cell_type": "code",
   "execution_count": 17,
   "metadata": {},
   "outputs": [
    {
     "data": {
      "text/latex": [
       "$\\displaystyle \\frac{\\mu \\left(- \\mu - x + 1\\right)}{\\left(y^{2} + \\left(\\mu + x - 1\\right)^{2}\\right)^{\\frac{3}{2}}} + \\omega p_{y} + \\frac{\\left(1 - \\mu\\right) \\left(- \\mu - x\\right)}{\\left(y^{2} + \\left(\\mu + x\\right)^{2}\\right)^{\\frac{3}{2}}}$"
      ],
      "text/plain": [
       "mu*(-mu - x + 1)/(y**2 + (mu + x - 1)**2)**(3/2) + omega*p_y + (1 - mu)*(-mu - x)/(y**2 + (mu + x)**2)**(3/2)"
      ]
     },
     "execution_count": 17,
     "metadata": {},
     "output_type": "execute_result"
    }
   ],
   "source": [
    "dpx_dt"
   ]
  },
  {
   "cell_type": "code",
   "execution_count": 18,
   "metadata": {},
   "outputs": [
    {
     "data": {
      "text/latex": [
       "$\\displaystyle - \\frac{\\mu y}{\\left(y^{2} + \\left(\\mu + x - 1\\right)^{2}\\right)^{\\frac{3}{2}}} - \\omega p_{x} - \\frac{y \\left(1 - \\mu\\right)}{\\left(y^{2} + \\left(\\mu + x\\right)^{2}\\right)^{\\frac{3}{2}}}$"
      ],
      "text/plain": [
       "-mu*y/(y**2 + (mu + x - 1)**2)**(3/2) - omega*p_x - y*(1 - mu)/(y**2 + (mu + x)**2)**(3/2)"
      ]
     },
     "execution_count": 18,
     "metadata": {},
     "output_type": "execute_result"
    }
   ],
   "source": [
    "dpy_dt"
   ]
  },
  {
   "cell_type": "code",
   "execution_count": null,
   "metadata": {},
   "outputs": [],
   "source": []
  }
 ],
 "metadata": {
  "kernelspec": {
   "display_name": "Python 3",
   "language": "python",
   "name": "python3"
  },
  "language_info": {
   "codemirror_mode": {
    "name": "ipython",
    "version": 3
   },
   "file_extension": ".py",
   "mimetype": "text/x-python",
   "name": "python",
   "nbconvert_exporter": "python",
   "pygments_lexer": "ipython3",
   "version": "3.12.7"
  }
 },
 "nbformat": 4,
 "nbformat_minor": 2
}
